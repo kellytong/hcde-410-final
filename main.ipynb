{
 "cells": [
  {
   "cell_type": "markdown",
   "id": "a7191006-7611-4081-9795-2b5a54b2f666",
   "metadata": {},
   "source": [
    "# Seattle Airbnb Data Analysis\n",
    "\n",
    "### Overview & Motivation\n",
    "\n",
    "This is a continuation of the project proposal for HCDE 410. \n",
    "\n",
    "I've used Airbnb when I travel and I thought it would be relevant as well as interesting for me to analyze the Airbnb data. I also would like to see how many Airbnbs and what kinds (big, small, etc) are in Seattle. The motivation for analyzing the Airbnb dataset in Seattle is to find any correlation between the housing popularity by comparing the reviews to the price, location, and features included in the housing (pool, # of rooms, # of bathrooms, etc.). \n",
    "\n",
    "An analysis of the Airbnb data would be useful because it can inform us of how many Airbnb houses there are among peoples' houses. I hope to learn if a majority of the houses in Seattle are made of Airbnb houses and how popular these houses are. Ultimately, this will help me determine what kinds of houses are in Seattle and understand the relevance of Airbnb in Seattle. The analysis will explore which Airbnbs in Seattle are booked more frequently than others and compare them with housing that is less frequently booked.  \n",
    "\n",
    "\n",
    "### Background or Related Work\n",
    "\n",
    "While researching Airbnb I learned that Airbnb became an idea in 2007 when two hosts provided three guests lodging in their home in San Francisco. Later on in 2008 Airbnb was established by three founders and has grown exponentially and there are millions of hosts providing stays for guests across the world. More statistics and details here: https://news.airbnb.com/about-us/ \n",
    "\n",
    "With the growing population in Seattle, it is interesting to see where people are staying. There seems to be a decent amount of Airbnb housing located in Seattle which makes me wonder where the locals live and where people moving to Seattle would reside. \n",
    "\n",
    "In previous research on the Seattle Airbnb data, the findings included the top ten listing prices by neighborhood and the type of housing property in these neighborhoods. A comparison of the pricing and housing type showed that houses were usually priced higher than apartments and other types of housing. An interesting exploration they did was predicting prices using linear regression. If there were many reviews in the month or Airbnb had lower review scores, housing was usually cheaper. To read more about the research: https://medium.com/analytics-vidhya/exploring-the-seattle-airbnb-dataset-3cb0df7699d3 \n",
    "\n",
    "Another previous research looked at the average booking price for staying in Seattle. They also explored the trend of listing prices throughout the year. There were comparisons of pricing on weekdays versus weekends. They do more data analysis that can be found: https://medium.com/analytics-vidhya/exploratory-data-analysis-on-seattle-airbnb-homestays-dbeed8855b63\n",
    "\n",
    "There are many other data analyses on the Seattle Airbnb which leads me to my research questions. I want to see if the COVID-19 pandemic changed booking prices and frequency. Another aspect I want to explore is which neighborhoods in Seattle have higher as well as lower ratings. I was also curious to group neighborhoods and compare the listing prices and booking frequency of general regions in Seattle. \n",
    "\n",
    "\n",
    "### Research Questions\n",
    "- How has the Airbnb listing prices changed after the COVID-19 pandemic?\n",
    "- How has the Airbnb booking frequency changed after the COVID-19 pandemic?\n",
    "- Which neighborhoods have higher/lower ratings?\n",
    "- How do the listing prices and booking frequency in North Seattle vary from South Seattle?\n",
    "\n",
    "\n",
    "### Methodology\n",
    "First I will turn the raw data into a form I can work with in Python (dictionaries).  Then I will clean up the data as needed and remove any missing rows but make note of how many rows are missing data.\n",
    "\n",
    "Before I begin calculating statistics, for the analysis of general regions in Seattle, I will have to group sub datasets together (grouping neighborhoods by regions). I will also make separate sub datasets for pre-COVID years and the COVID & beyond so that I can compare my results from the two time periods..\n",
    "\n",
    "A majority of the analysis will be working with the dataset to pull interesting insights about the listing prices and booking frequency into visualizations such as bar graphs, box plots, etc. I will be calculating statistics of housing prices and ratings such as averages and medians to plot on my graphs.\n",
    "\n",
    "\n",
    "### Data selected for analysis:\n",
    "\n",
    "The main dataset I plan to use is the listing dataset within the Seattle area. I am interested in working with Seattle data because I live here but also because I've rented Airbnbs but never in Seattle so I wanted to see how they compared to other Airbnbs. The listings dataset has information on Airbnb housing including price, location, host, reviews, availability, and other details on the housing. The dataset has information on what people would look at when searching for an Airbnb.\n",
    "\n",
    "Link to all Airbnb datasets (scroll down to Seattle and ``listings.csv``): http://insideairbnb.com/get-the-data/\n",
    "\n",
    "The data is under the Creative Commons Attribution 4.0 International License. The link to information about this license is: https://creativecommons.org/licenses/by/4.0/\n",
    "\n",
    "This dataset is a suitable one for addressing my research goal because it provides information on each Airbnb and I could analyze multiple houses to see if there is a trend and see how they compare (reviews/price/etc.) to the Airbnb I've stayed in outside of Seattle. A possible ethical consideration when using this dataset is how was the data collected (and by who). What data was excluded from this dataset and why?\n",
    "\n",
    "\n",
    "### Unknowns and dependencies: \n",
    "\n",
    "I think the biggest factor that may affect my ability to turn in this assignment is the coding aspect and and data analysis part. I don't know if I am good enough at Python to handle the data in a way to explore my research goal. The only other concern I have is if I get sick or catch COVID some time from now until the end of the quarter."
   ]
  }
 ],
 "metadata": {
  "kernelspec": {
   "display_name": "Python 3 (ipykernel)",
   "language": "python",
   "name": "python3"
  },
  "language_info": {
   "codemirror_mode": {
    "name": "ipython",
    "version": 3
   },
   "file_extension": ".py",
   "mimetype": "text/x-python",
   "name": "python",
   "nbconvert_exporter": "python",
   "pygments_lexer": "ipython3",
   "version": "3.9.7"
  }
 },
 "nbformat": 4,
 "nbformat_minor": 5
}
